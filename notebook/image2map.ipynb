{
 "cells": [
  {
   "cell_type": "markdown",
   "metadata": {},
   "source": [
    "#  Image2Map\n",
    "\n",
    "Illustrative examples with a Kohonen's Self-Organizing Map."
   ]
  },
  {
   "cell_type": "code",
   "execution_count": null,
   "metadata": {},
   "outputs": [],
   "source": [
    "import os, sys\n",
    "PATH = os.path.dirname(os.path.abspath(\".\"))\n",
    "sys.path.append(os.path.join(PATH, \"src\"))\n",
    "%load_ext autoreload\n",
    "%autoreload 2"
   ]
  },
  {
   "cell_type": "markdown",
   "metadata": {},
   "source": [
    "___\n",
    "\n",
    "## Initialize model\n",
    "\n",
    "Initializes an instance of the `SOM` class.\n",
    "\n",
    "The following hyperparameters have been used for the examples in this notebook:\n",
    "\n",
    "* MNIST: `epochs=10, k_units=100, k_shape=(10,10), topology='GRID'`\n",
    "* Lines: `epochs=100, k_units=8, k_shape=8, topology='LINE'`"
   ]
  },
  {
   "cell_type": "code",
   "execution_count": null,
   "metadata": {},
   "outputs": [],
   "source": [
    "import image2map as im\n",
    "\n",
    "som = im.SOM(\n",
    "    k_units=8,               # LINES\n",
    "    k_shape=8,               # LINES\n",
    "    topology=\"line\",         # LINES\n",
    "    # k_units=100,             # MNIST\n",
    "    # k_shape=(10, 10),        # MNIST\n",
    "    # k_units=k*k,             # Number of units (neurons) in the SOM.\n",
    "    # k_shape=(k, k),          # Shape of the output map.\n",
    "    # k_dist=\"l2\",             # Distance among units ('l1', 'l2', 'chebyshev').\n",
    "    # n_inputs=None,           # Number of input features.\n",
    "    # n_shape=None,            # Shape of the input data.\n",
    "    # topology=\"grid\",         # Topology of the SOM ('GRID', 'MESH', 'LINE', 'RING').\n",
    "    # unit_topology=\"square\",  # Type of tiling for the SOM ('SQUARE', 'HEX').\n",
    "    # radius_max=None,         # Maximum radius for neighborhood function.\n",
    "    # radius_min=0,            # Minimum radius for neighborhood function.\n",
    "    # radius_rate=None,        # Decay function type ('exp', 'lin').\n",
    "    # radius_decay=\"exp\",      # Decay rate (constant).\n",
    "    # alpha_max=0.1,           # Initial learning rate.\n",
    "    # alpha_min=0.01,          # Final learning rate.\n",
    "    # alpha_rate=None,         # Decay function type ('exp', 'lin').\n",
    "    # alpha_decay=\"exp\",       # Decay rate (constant).\n",
    "    # phi=\"lap\",               # Neighborhood function type ('lap', 'exp', 'sqd', 'lin').\n",
    "    # k=1.0,                   # Scaling factor.\n",
    "    # sigma=1.0,               # Standard deviation.\n",
    "    # seed=42                    # Random seed.\n",
    ")\n",
    "som"
   ]
  },
  {
   "cell_type": "markdown",
   "metadata": {},
   "source": [
    "___\n",
    "\n",
    "## Load dataset\n",
    "\n",
    "Load input data and split into training and test sets."
   ]
  },
  {
   "cell_type": "code",
   "execution_count": null,
   "metadata": {},
   "outputs": [],
   "source": [
    "# X = ...\n",
    "# X_train, X_test = im.utils.split_ts(X, size=0.8)"
   ]
  },
  {
   "cell_type": "markdown",
   "metadata": {},
   "source": [
    "##### Example: [MNIST](https://www.tensorflow.org/datasets/catalog/mnist) dataset"
   ]
  },
  {
   "cell_type": "code",
   "execution_count": null,
   "metadata": {},
   "outputs": [],
   "source": [
    "X_train, y_train, X_test, y_test = im.utils.load_mnist(root=\"../data/input/mnist\")\n",
    "fig, ax = im.subplots(X_train[:10])  # Visualize the weights for the first 10 training samples.\n",
    "fig"
   ]
  },
  {
   "cell_type": "markdown",
   "metadata": {},
   "source": [
    "##### Example: Lines in a 2-d space"
   ]
  },
  {
   "cell_type": "code",
   "execution_count": null,
   "metadata": {},
   "outputs": [],
   "source": [
    "X = im.utils.load_images(\"../data/input/images_100_16x16_png\")\n",
    "X_train, X_test = im.utils.split_ts(X, size=0.8)\n",
    "fig, ax = im.subplots(X)\n",
    "fig"
   ]
  },
  {
   "cell_type": "markdown",
   "metadata": {},
   "source": [
    "##### Example: Points in a 2-d space"
   ]
  },
  {
   "cell_type": "code",
   "execution_count": null,
   "metadata": {},
   "outputs": [],
   "source": [
    "# import numpy as np\n",
    "# from itertools import product\n",
    "# X, d = [], 10\n",
    "# for i, j in product(range(d), range(d)):\n",
    "#     x = np.ones((d, d))\n",
    "#     x[i, j] = -1\n",
    "#     X.append(x)\n",
    "# X = np.array(X).reshape(-1, d*d)\n",
    "# X_train, X_test = im.utils.split_ts(X, size=0.8)\n",
    "# fig, ax = im.subplots(X)\n",
    "# fig"
   ]
  },
  {
   "cell_type": "markdown",
   "metadata": {},
   "source": [
    "### Normalize features\n",
    "\n",
    "Scale input features in a specified range, by default set to $[-1, 1]$."
   ]
  },
  {
   "cell_type": "code",
   "execution_count": null,
   "metadata": {},
   "outputs": [],
   "source": [
    "wmin, wmax = (-1, 1)\n",
    "X_train = im.utils.minmax_scale(X_train, (wmin, wmax))\n",
    "X_test = im.utils.minmax_scale(X_test, (wmin, wmax))\n",
    "# X = im.utils.minmax_scale(X, scale)"
   ]
  },
  {
   "cell_type": "markdown",
   "metadata": {},
   "source": [
    "___\n",
    "\n",
    "## Fit model to data\n",
    "\n",
    "With the data loaded, either `fit` the model to match input `X` feature dimensionality or manually define its attributes."
   ]
  },
  {
   "cell_type": "code",
   "execution_count": null,
   "metadata": {},
   "outputs": [],
   "source": [
    "som.fit(X_train)\n",
    "# som.n_inputs = n*n    # Number of input features.\n",
    "# som.n_shape = (n, n)  # Input data dimensions.\n",
    "som"
   ]
  },
  {
   "cell_type": "markdown",
   "metadata": {},
   "source": [
    "#### Initialize neurons and weights\n",
    "\n",
    "Randomly initialize weights in the interval $(w_{min}, w_{max})$ and position neurons in the output map depending on the selected topological properties.\n",
    "\n",
    "> Neuron positions and weight vectors are automatically initialized on `train` if undefined; this cell is only included to allow plotting initial weights next."
   ]
  },
  {
   "cell_type": "code",
   "execution_count": null,
   "metadata": {},
   "outputs": [],
   "source": [
    "som.init_neurons()\n",
    "som.plot_neurons(j0=0, r=0)\n",
    "# som.Y  # Neuron positions.."
   ]
  },
  {
   "cell_type": "code",
   "execution_count": null,
   "metadata": {},
   "outputs": [],
   "source": [
    "som.init_weights(wmin, wmax)\n",
    "som.plot_weights(j0=0, r=0)\n",
    "# som.W  # Neuron weights."
   ]
  },
  {
   "cell_type": "markdown",
   "metadata": {},
   "source": [
    "___\n",
    "## Train model\n",
    "\n",
    "#### Set path to save weights"
   ]
  },
  {
   "cell_type": "code",
   "execution_count": null,
   "metadata": {},
   "outputs": [],
   "source": [
    "weights_path = \"weights.npy\"  # Path to save weights (final only)"
   ]
  },
  {
   "cell_type": "markdown",
   "metadata": {},
   "source": [
    "Saving the weights at every epoch can be achieved by setting the path to a folder instead:"
   ]
  },
  {
   "cell_type": "code",
   "execution_count": null,
   "metadata": {},
   "outputs": [],
   "source": [
    "weights_path = \"weights/\"     # Path to save weights (every epoch)\n",
    "# !mkdir -p {weights_path}      # Create directory for weights"
   ]
  },
  {
   "cell_type": "markdown",
   "metadata": {},
   "source": [
    "Alternatively, to load the weights from previously trained model:"
   ]
  },
  {
   "cell_type": "code",
   "execution_count": null,
   "metadata": {},
   "outputs": [],
   "source": [
    "# som.load_weights(\"/path/to/weights.npy\")"
   ]
  },
  {
   "cell_type": "markdown",
   "metadata": {},
   "source": [
    "#### Begin model training"
   ]
  },
  {
   "cell_type": "code",
   "execution_count": null,
   "metadata": {},
   "outputs": [],
   "source": [
    "epochs = 10\n",
    "som.train(X_train, epochs=epochs, save_weights=weights_path)"
   ]
  },
  {
   "cell_type": "code",
   "execution_count": null,
   "metadata": {},
   "outputs": [],
   "source": [
    "# som.reset_epoch()   # Resets current epoch.\n",
    "# som.reset_alpha()   # Resets current learning rate self.alpha.\n",
    "# som.reset_radius()  # Resets current iteration radius self.radius.\n",
    "# som.init_weights()  # Re-initializes weights."
   ]
  },
  {
   "cell_type": "markdown",
   "metadata": {},
   "source": [
    "#### Plot final weights\n",
    "\n",
    "Renders map of neuron positions and their weights."
   ]
  },
  {
   "cell_type": "code",
   "execution_count": null,
   "metadata": {},
   "outputs": [],
   "source": [
    "som.plot_weights(output=\"mnist.eps\")"
   ]
  },
  {
   "cell_type": "markdown",
   "metadata": {},
   "source": [
    "#### Plot learning animation\n",
    "\n",
    "Load weights saved to disk into an array and animate learning process over time."
   ]
  },
  {
   "cell_type": "code",
   "execution_count": null,
   "metadata": {},
   "outputs": [],
   "source": [
    "!pip install --quiet ipympl\n",
    "%matplotlib ipympl\n",
    "\n",
    "Z = []\n",
    "for epoch in range(epochs):\n",
    "    som.load_weights(\"{}weights_epoch_{}.npy\".format(weights_path, epoch))\n",
    "    Z.append(som.W)\n",
    "\n",
    "nrows, ncols = som.k_shape if type(som.k_shape) == tuple else (1, som.k_shape)\n",
    "im.animate(Z, nrows=nrows, ncols=ncols, output=\"animation.gif\", interval=30)"
   ]
  },
  {
   "cell_type": "markdown",
   "metadata": {},
   "source": [
    "## Predict new data\n",
    "\n",
    "Find the best matching unit to an unseen test sample."
   ]
  },
  {
   "cell_type": "code",
   "execution_count": null,
   "metadata": {},
   "outputs": [],
   "source": [
    "i = 0\n",
    "fig, ax = im.plot_image(X_test[i], figsize=(2,2))\n",
    "fig"
   ]
  },
  {
   "cell_type": "code",
   "execution_count": null,
   "metadata": {},
   "outputs": [],
   "source": [
    "j0 = som.predict(X_test[i:i+1], bmu=True)[0]\n",
    "fig = som.plot_weights(j0=j0, r=None)\n",
    "fig"
   ]
  },
  {
   "cell_type": "markdown",
   "metadata": {},
   "source": [
    "___"
   ]
  },
  {
   "cell_type": "markdown",
   "metadata": {},
   "source": [
    "## Unit tests"
   ]
  },
  {
   "cell_type": "code",
   "execution_count": null,
   "metadata": {},
   "outputs": [],
   "source": [
    "%load_ext autoreload\n",
    "%autoreload 2\n",
    "from image2map import tests"
   ]
  },
  {
   "cell_type": "code",
   "execution_count": null,
   "metadata": {},
   "outputs": [],
   "source": [
    "tests.plot_grid_mesh_fig(output=\"fig-grid-mesh.eps\")"
   ]
  },
  {
   "cell_type": "code",
   "execution_count": null,
   "metadata": {},
   "outputs": [],
   "source": [
    "tests.plot_decay_fig(xmin=0, xmax=1, output=\"fig-decay.eps\")"
   ]
  },
  {
   "cell_type": "code",
   "execution_count": null,
   "metadata": {},
   "outputs": [],
   "source": [
    "tests.plot_phi_fig(r=10, output=\"fig-phi.eps\")"
   ]
  },
  {
   "cell_type": "code",
   "execution_count": null,
   "metadata": {},
   "outputs": [],
   "source": [
    "tests.plot_dist_fig(j0=45, r=2.5, output=\"fig-dist.eps\")"
   ]
  }
 ],
 "metadata": {
  "kernelspec": {
   "display_name": "phd",
   "language": "python",
   "name": "python3"
  },
  "language_info": {
   "codemirror_mode": {
    "name": "ipython",
    "version": 3
   },
   "file_extension": ".py",
   "mimetype": "text/x-python",
   "name": "python",
   "nbconvert_exporter": "python",
   "pygments_lexer": "ipython3",
   "version": "3.11.13"
  },
  "orig_nbformat": 4
 },
 "nbformat": 4,
 "nbformat_minor": 2
}
